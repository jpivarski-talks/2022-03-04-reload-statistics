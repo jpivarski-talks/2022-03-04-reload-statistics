{
 "cells": [
  {
   "cell_type": "code",
   "execution_count": 1,
   "id": "f49a6294-b910-48ac-a7fe-9384e271ca64",
   "metadata": {},
   "outputs": [],
   "source": [
    "import json\n",
    "import glob\n",
    "import os\n",
    "import tarfile\n",
    "import re\n",
    "import datetime"
   ]
  },
  {
   "cell_type": "code",
   "execution_count": 2,
   "id": "1b2a3222-1a3f-4f94-b097-45cec86bf0bd",
   "metadata": {},
   "outputs": [],
   "source": [
    "PREFIX = \"/home/jpivarski/storage/data/physicists/forks-of-cmssw-2022-03-04\""
   ]
  },
  {
   "cell_type": "code",
   "execution_count": 3,
   "id": "0ccd8c0a-17e5-4bea-8d47-31af80fd6be6",
   "metadata": {},
   "outputs": [],
   "source": [
    "userrepos = []\n",
    "for filename in glob.glob(PREFIX + \"/user-repos/*.json\"):\n",
    "    userrepos.extend(json.load(open(filename)))"
   ]
  },
  {
   "cell_type": "code",
   "execution_count": 4,
   "id": "7b6db28c-56ed-434c-9377-fed7866b7467",
   "metadata": {},
   "outputs": [
    {
     "data": {
      "text/plain": [
       "16737"
      ]
     },
     "execution_count": 4,
     "metadata": {},
     "output_type": "execute_result"
    }
   ],
   "source": [
    "len(set([repo[\"full_name\"] for repo in userrepos if not repo[\"fork\"]]))"
   ]
  },
  {
   "cell_type": "code",
   "execution_count": 5,
   "id": "ebaca07a-d1e0-4537-81e1-5a4ec075b26d",
   "metadata": {},
   "outputs": [
    {
     "data": {
      "text/plain": [
       "16737"
      ]
     },
     "execution_count": 5,
     "metadata": {},
     "output_type": "execute_result"
    }
   ],
   "source": [
    "len([repo for repo in userrepos if not repo[\"fork\"]])"
   ]
  },
  {
   "cell_type": "code",
   "execution_count": 6,
   "id": "4bb4af16-01aa-47d3-9bb4-ede53251d932",
   "metadata": {},
   "outputs": [],
   "source": [
    "regex = {\n",
    "    \"\": re.compile(r\"\\b(import\\s+uproot[34]*|from\\s+uproot[34]*\\s+import)\\b\"),\n",
    "    \"\": re.compile(r\"\\b(import\\s+awkward[01]*|from\\s+awkward[01]*\\s+import)\\b\"),\n",
    "    \"\": re.compile(r\"\\b(import\\s+coffea*|from\\s+coffea*\\s+import)\\b\"),\n",
    "    \"\": re.compile(r\"\\b(import\\s+ROOT*|from\\s+ROOT*\\s+import|include\\s*[<\\\"]TFile|include\\s*[<\\\"]TTree|include\\s*[<\\\"]TH[123]|include\\s*[<\\\"]TMVA|include\\s*[<\\\"]ROOT)\\b\"),\n",
    "    \"\": re.compile(r\"\\b(import\\s+numpy*|from\\s+numpy*\\s+import)\\b\"),\n",
    "    \"\": re.compile(r\"\\b(import\\s+scipy*|from\\s+scipy*\\s+import)\\b\"),\n",
    "    \"\": re.compile(r\"\\b(import\\s+matplotlib*|from\\s+matplotlib*\\s+import)\\b\"),\n",
    "    \"\": re.compile(r\"\\b(import\\s+pandas*|from\\s+pandas*\\s+import)\\b\"),\n",
    "    \"\": re.compile(r\"\\b(import\\s+sklearn*|from\\s+sklearn*\\s+import)\\b\"),\n",
    "    \"\": re.compile(r\"\\b(import\\s+tensorflow*|from\\s+tensorflow*\\s+import)\\b\"),\n",
    "    \"\": re.compile(r\"\\b(import\\s+keras*|from\\s+keras*\\s+import)\\b\"),\n",
    "    \"\": re.compile(r\"\\b(import\\s+torch*|from\\s+torch*\\s+import)\\b\"),\n",
    "    \"\": re.compile(r\"\\b(import\\s+jax*|from\\s+jax*\\s+import)\\b\"),\n",
    "    \"\": re.compile(r\"\\b(import\\s+xgboost*|from\\s+xgboost*\\s+import)\\b\"),\n",
    "    \"\": re.compile(r\"\\b(import\\s+scipy*|from\\s+scipy*\\s+import)\\b\"),\n",
    "}"
   ]
  },
  {
   "cell_type": "code",
   "execution_count": 7,
   "id": "b9b7ef2d-6753-4b9f-bcfb-7060d2fd1452",
   "metadata": {},
   "outputs": [],
   "source": [
    "python_import = re.compile(rb\"\\bimport\\s+([A-Za-z_][A-Za-z_0-9]*)\\b\")\n",
    "python_fromimport = re.compile(rb\"\\bfrom\\s+([A-Za-z_][A-Za-z_0-9]*)\\s+import\\b\")\n",
    "cpp_include_bracket = re.compile(rb\"#include\\s*<\\s*([^>,]+)\\s*>\")\n",
    "cpp_include_quote = re.compile(rb\"\\#include\\s*\\\"\\s*([^\\\",]+)\\s*\\\"\")\n",
    "ipynb_include_quotedquote = re.compile(rb\"\\#include\\s*\\\\\\\"\\s*([^\\\\\\\",]+)\\s*\\\\\\\"\")"
   ]
  },
  {
   "cell_type": "code",
   "execution_count": 8,
   "id": "93f448dc-f1a3-4a5d-9148-6c05ca4955c1",
   "metadata": {},
   "outputs": [
    {
     "data": {
      "text/plain": [
       "b'something'"
      ]
     },
     "execution_count": 8,
     "metadata": {},
     "output_type": "execute_result"
    }
   ],
   "source": [
    "python_import.search(b\"import  something\").group(1)"
   ]
  },
  {
   "cell_type": "code",
   "execution_count": 9,
   "id": "afc51eb0-1637-4fd6-b249-9ab84cbff64d",
   "metadata": {},
   "outputs": [
    {
     "data": {
      "text/plain": [
       "b'something'"
      ]
     },
     "execution_count": 9,
     "metadata": {},
     "output_type": "execute_result"
    }
   ],
   "source": [
    "python_fromimport.search(b\"from something import *\").group(1)"
   ]
  },
  {
   "cell_type": "code",
   "execution_count": 10,
   "id": "875b28c3-fc39-4c30-9bbf-87d34d2843a4",
   "metadata": {},
   "outputs": [
    {
     "data": {
      "text/plain": [
       "b'something'"
      ]
     },
     "execution_count": 10,
     "metadata": {},
     "output_type": "execute_result"
    }
   ],
   "source": [
    "cpp_include_bracket.search(b\"#include<something>\").group(1)"
   ]
  },
  {
   "cell_type": "code",
   "execution_count": 11,
   "id": "de1a42cc-87a2-4855-910f-d1f9a8fe3c40",
   "metadata": {},
   "outputs": [
    {
     "data": {
      "text/plain": [
       "b'something'"
      ]
     },
     "execution_count": 11,
     "metadata": {},
     "output_type": "execute_result"
    }
   ],
   "source": [
    "cpp_include_quote.search(b\"#include\\\"something\\\"\").group(1)"
   ]
  },
  {
   "cell_type": "code",
   "execution_count": 12,
   "id": "8fdcdc10-13fc-4039-9b32-fae120f5f45f",
   "metadata": {},
   "outputs": [
    {
     "name": "stdout",
     "output_type": "stream",
     "text": [
      "    \"#include \\\"TMVA/MethodRSNNS.h\\\"\\n\",\n"
     ]
    }
   ],
   "source": [
    "print(r'    \"#include \\\"TMVA/MethodRSNNS.h\\\"\\n\",')"
   ]
  },
  {
   "cell_type": "code",
   "execution_count": 13,
   "id": "b3627e0b-184b-4164-9738-87ddca1db847",
   "metadata": {},
   "outputs": [
    {
     "data": {
      "text/plain": [
       "b'TMVA/MethodRSNNS.h'"
      ]
     },
     "execution_count": 13,
     "metadata": {},
     "output_type": "execute_result"
    }
   ],
   "source": [
    "ipynb_include_quotedquote.search(rb'    \"#include \\\"TMVA/MethodRSNNS.h\\\"\\n\",').group(1)"
   ]
  },
  {
   "cell_type": "code",
   "execution_count": 14,
   "id": "e385533c-1189-4e83-94ba-9d3132138c41",
   "metadata": {},
   "outputs": [],
   "source": [
    "with open(f\"{PREFIX}/GitHub-CMSSW-user-nonfork-dependencies.csv\", \"w\") as outfile:\n",
    "    outfile.write(\"owner,repo,created,updated,filename,suffix,package,how\\n\")\n",
    "    for i, repo in enumerate(userrepos):\n",
    "        if not repo[\"fork\"]:\n",
    "            owner, reponame = repo[\"full_name\"].split(\"/\")\n",
    "            # print(owner, reponame)\n",
    "            created_at = repo[\"created_at\"].rstrip(\"Z\")\n",
    "            updated_at = repo[\"updated_at\"].rstrip(\"Z\")\n",
    "            tarname = f\"{PREFIX}/actual-repos-2/{owner}-{reponame}.tgz\"\n",
    "            if os.path.exists(tarname):\n",
    "                assert \",\" not in owner\n",
    "                assert \",\" not in repo[\"full_name\"]\n",
    "                assert \",\" not in created_at\n",
    "                with tarfile.open(tarname) as tarball:\n",
    "                    # with tarball.extractfile(f\"{owner}-{reponame}/git-log.json\") as file:\n",
    "                    #     ages = {}\n",
    "                    #     for commit in git_log[\"log\"]:\n",
    "                    #         timestamp = commit[\"commit_time\"]\n",
    "                    #         for delta in commit[\"deltas\"]:\n",
    "                    #             if delta[\"new\"] not in ages or timestamp > ages[delta[\"new\"]]:\n",
    "                    #                 ages[delta[\"new\"]] = timestamp\n",
    "                    for info in tarball:\n",
    "                        name = info.name\n",
    "                        quoted_name = json.dumps(name)\n",
    "                        suffix = name.split(\".\")[-1]\n",
    "                        if info.type not in (tarfile.LNKTYPE, tarfile.SYMTYPE):\n",
    "                            try:\n",
    "                                file = tarball.extractfile(name)\n",
    "                                if file is not None:\n",
    "                                    source = file.read()\n",
    "                                    if name.endswith(\".py\") or name.endswith(\".PY\"):\n",
    "                                        for match in python_import.findall(source):\n",
    "                                            outfile.write(f\"{owner},{repo['full_name']},{created_at},{updated_at},{quoted_name},{suffix},{json.dumps(match.decode())},python_import\\n\")\n",
    "                                        for match in python_fromimport.findall(source):\n",
    "                                            outfile.write(f\"{owner},{repo['full_name']},{created_at},{updated_at},{quoted_name},{suffix},{json.dumps(match.decode())},python_fromimport\\n\")\n",
    "                                    elif name.endswith(\".ipynb\") or name.endswith(\".IPYNB\"):\n",
    "                                        for match in python_import.findall(source):\n",
    "                                            outfile.write(f\"{owner},{repo['full_name']},{created_at},{updated_at},{quoted_name},{suffix},{json.dumps(match.decode())},python_import\\n\")\n",
    "                                        for match in python_fromimport.findall(source):\n",
    "                                            outfile.write(f\"{owner},{repo['full_name']},{created_at},{updated_at},{quoted_name},{suffix},{json.dumps(match.decode())},python_fromimport\\n\")\n",
    "                                        for match in cpp_include_bracket.findall(source):\n",
    "                                            outfile.write(f\"{owner},{repo['full_name']},{created_at},{updated_at},{quoted_name},{suffix},{json.dumps(match.decode())},cpp_include_bracket\\n\")\n",
    "                                        for match in cpp_include_quote.findall(source):\n",
    "                                            outfile.write(f\"{owner},{repo['full_name']},{created_at},{updated_at},{quoted_name},{suffix},{json.dumps(match.decode())},cpp_include_quote\\n\")\n",
    "                                        for match in ipynb_include_quotedquote.findall(source):\n",
    "                                            outfile.write(f\"{owner},{repo['full_name']},{created_at},{updated_at},{quoted_name},{suffix},{json.dumps(match.decode())},ipynb_include_quotedquote\\n\")\n",
    "                                    else:\n",
    "                                        for match in cpp_include_bracket.findall(source):\n",
    "                                            outfile.write(f\"{owner},{repo['full_name']},{created_at},{updated_at},{quoted_name},{suffix},{json.dumps(match.decode())},cpp_include_bracket\\n\")\n",
    "                                        for match in cpp_include_quote.findall(source):\n",
    "                                            outfile.write(f\"{owner},{repo['full_name']},{created_at},{updated_at},{quoted_name},{suffix},{json.dumps(match.decode())},cpp_include_quote\\n\")\n",
    "                            finally:\n",
    "                                if file is not None:\n",
    "                                    file.close()"
   ]
  },
  {
   "cell_type": "code",
   "execution_count": 15,
   "id": "76a44a8c-9f6a-4169-8d03-cfd17e4df343",
   "metadata": {},
   "outputs": [],
   "source": [
    "tarball = tarfile.open(\"/home/jpivarski/storage/data/physicists/forks-of-cmssw-2022-03-04/actual-repos-2/dabarbosa10-HEP.tgz\")"
   ]
  },
  {
   "cell_type": "code",
   "execution_count": 16,
   "id": "09e9833e-71d0-4241-a651-76b81f607524",
   "metadata": {},
   "outputs": [
    {
     "data": {
      "text/plain": [
       "True"
      ]
     },
     "execution_count": 16,
     "metadata": {},
     "output_type": "execute_result"
    }
   ],
   "source": [
    "\"dabarbosa10-HEP/2021/Aug/Func.C\" in tarball.getnames()"
   ]
  },
  {
   "cell_type": "code",
   "execution_count": 17,
   "id": "e976b9e7-950a-48f3-adac-99604d334891",
   "metadata": {},
   "outputs": [
    {
     "name": "stdout",
     "output_type": "stream",
     "text": [
      "None\n"
     ]
    }
   ],
   "source": [
    "print(tarball.extractfile(\"dabarbosa10-HEP/2021/Aug/Func.C\"))"
   ]
  }
 ],
 "metadata": {
  "kernelspec": {
   "display_name": "Python 3 (ipykernel)",
   "language": "python",
   "name": "python3"
  },
  "language_info": {
   "codemirror_mode": {
    "name": "ipython",
    "version": 3
   },
   "file_extension": ".py",
   "mimetype": "text/x-python",
   "name": "python",
   "nbconvert_exporter": "python",
   "pygments_lexer": "ipython3",
   "version": "3.9.10"
  }
 },
 "nbformat": 4,
 "nbformat_minor": 5
}
