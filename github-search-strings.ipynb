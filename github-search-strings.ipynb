{
 "cells": [
  {
   "cell_type": "code",
   "execution_count": 54,
   "id": "f49a6294-b910-48ac-a7fe-9384e271ca64",
   "metadata": {},
   "outputs": [],
   "source": [
    "import json\n",
    "import glob\n",
    "import os\n",
    "import tarfile\n",
    "import re"
   ]
  },
  {
   "cell_type": "code",
   "execution_count": 28,
   "id": "1b2a3222-1a3f-4f94-b097-45cec86bf0bd",
   "metadata": {},
   "outputs": [],
   "source": [
    "PREFIX = \"/home/jpivarski/storage/data/physicists/forks-of-cmssw-2022-03-04\""
   ]
  },
  {
   "cell_type": "code",
   "execution_count": 29,
   "id": "0ccd8c0a-17e5-4bea-8d47-31af80fd6be6",
   "metadata": {},
   "outputs": [],
   "source": [
    "userrepos = []\n",
    "for filename in glob.glob(PREFIX + \"/user-repos/*.json\"):\n",
    "    userrepos.extend(json.load(open(filename)))"
   ]
  },
  {
   "cell_type": "code",
   "execution_count": 30,
   "id": "7b6db28c-56ed-434c-9377-fed7866b7467",
   "metadata": {},
   "outputs": [
    {
     "data": {
      "text/plain": [
       "16737"
      ]
     },
     "execution_count": 30,
     "metadata": {},
     "output_type": "execute_result"
    }
   ],
   "source": [
    "len(set([repo[\"full_name\"] for repo in userrepos if not repo[\"fork\"]]))"
   ]
  },
  {
   "cell_type": "code",
   "execution_count": 31,
   "id": "ebaca07a-d1e0-4537-81e1-5a4ec075b26d",
   "metadata": {},
   "outputs": [
    {
     "data": {
      "text/plain": [
       "16737"
      ]
     },
     "execution_count": 31,
     "metadata": {},
     "output_type": "execute_result"
    }
   ],
   "source": [
    "len([repo for repo in userrepos if not repo[\"fork\"]])"
   ]
  },
  {
   "cell_type": "code",
   "execution_count": 113,
   "id": "4bb4af16-01aa-47d3-9bb4-ede53251d932",
   "metadata": {},
   "outputs": [],
   "source": [
    "regex = {\n",
    "    (\"py\", r\"\\buproot[34]*\\b\"),\n",
    "    (\"py\", r\"\\bawkward[01]*\\b\"),\n",
    "    (\"cpp\", r\"\\bTFile\\b\"),\n",
    "    (\"py\", r\"\\bTFile\\b\"),\n",
    "    (\"py\", r\"\\bimport\\s+ROOT\\b\"),\n",
    "    (\"py\", r\"\\bfrom\\s+ROOT\\s+import\\b\"),\n",
    "    (\"py\", r\"\\bnumpy\\b\"),\n",
    "    (\"py\", r\"\\bscipy\\b\"),\n",
    "    (\"py\", r\"\\bmatplotlib\\b\"),\n",
    "    (\"py\", r\"\\bpandas\\b\"),\n",
    "    (\"py\", r\"\\bsklearn\\b\"),\n",
    "    (\"py\", r\"\\btensorflow\\b\"),\n",
    "    (\"py\", r\"\\bkeras\\b\"),\n",
    "    (\"py\", r\"\\btorch\\b\"),\n",
    "    (\"py\", r\"\\bjax\\b\"),\n",
    "    (\"py\", r\"\\bxgboost\\b\"),\n",
    "    (\"py\", r\"\\bcoffea\\b\"),\n",
    "    (\"py\", r\"\\bRDataFrame\\b\"),\n",
    "    (\"cpp\", r\"\\bRDataFrame\\b\"),\n",
    "    (\"py\", r\"\\bTMVA\\b\"),\n",
    "    (\"cpp\", r\"\\bTMVA\\b\"),\n",
    "}"
   ]
  },
  {
   "cell_type": "code",
   "execution_count": 114,
   "id": "e385533c-1189-4e83-94ba-9d3132138c41",
   "metadata": {},
   "outputs": [
    {
     "name": "stdout",
     "output_type": "stream",
     "text": [
      "rateixei-bbggPlotter/python/CfiFile_cfi.py 2015-06-16 18:50:11\n",
      "rateixei-bbggPlotter/python/ConfFile_cfg.py 2015-06-16 18:50:11\n",
      "rateixei-bbggPlotter/test/miniAOD_GravFiles.py 2015-06-16 18:50:11\n",
      "rateixei-bbggPlotter/test/miniAOD_RadFiles.py 2015-06-16 18:50:11\n",
      "rateixei-bbggPlotter/test/TEMPLATE_MakePlots.py 2015-06-16 18:50:11\n",
      "rateixei-bbggPlotter/test/microAOD_RadFiles.py 2015-06-16 18:50:11\n",
      "rateixei-bbggPlotter/test/microAOD_GravFiles.py 2015-06-16 18:50:11\n",
      "rateixei-bbggPlotter/test/MakePlots.py 2015-06-16 18:50:11\n"
     ]
    }
   ],
   "source": [
    "for repo in userrepos:\n",
    "    if not repo[\"fork\"]:\n",
    "        owner, reponame = repo[\"full_name\"].split(\"/\")\n",
    "        created_at = datetime.datetime.fromisoformat(repo[\"created_at\"].rstrip(\"Z\"))\n",
    "        matches = {x: False for x in regex}\n",
    "        tarname = f\"{PREFIX}/actual-repos-2/{owner}-{reponame}.tgz\"\n",
    "        if os.path.exists(tarname):\n",
    "            with tarfile.open(tarname) as tarball:\n",
    "                # with tarball.extractfile(f\"{owner}-{reponame}/git-log.json\") as file:\n",
    "                #     ages = {}\n",
    "                #     for commit in git_log[\"log\"]:\n",
    "                #         timestamp = commit[\"commit_time\"]\n",
    "                #         for delta in commit[\"deltas\"]:\n",
    "                #             if delta[\"new\"] not in ages or timestamp > ages[delta[\"new\"]]:\n",
    "                #                 ages[delta[\"new\"]] = timestamp\n",
    "                for name in tarball.getnames():\n",
    "                    if name.endswith(\".py\"):\n",
    "                        with tarball.extractfile(name) as file:\n",
    "                            source = file.read().decode()\n",
    "                            print(name, created_at)\n",
    "            break"
   ]
  },
  {
   "cell_type": "code",
   "execution_count": null,
   "id": "27b7f287-6714-4ae0-99a5-a24b2b426d43",
   "metadata": {},
   "outputs": [],
   "source": []
  }
 ],
 "metadata": {
  "kernelspec": {
   "display_name": "Python 3 (ipykernel)",
   "language": "python",
   "name": "python3"
  },
  "language_info": {
   "codemirror_mode": {
    "name": "ipython",
    "version": 3
   },
   "file_extension": ".py",
   "mimetype": "text/x-python",
   "name": "python",
   "nbconvert_exporter": "python",
   "pygments_lexer": "ipython3",
   "version": "3.9.10"
  }
 },
 "nbformat": 4,
 "nbformat_minor": 5
}
