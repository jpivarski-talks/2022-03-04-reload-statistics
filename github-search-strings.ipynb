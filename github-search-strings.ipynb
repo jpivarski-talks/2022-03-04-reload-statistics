{
 "cells": [
  {
   "cell_type": "code",
   "execution_count": null,
   "id": "f49a6294-b910-48ac-a7fe-9384e271ca64",
   "metadata": {},
   "outputs": [],
   "source": [
    "import json\n",
    "import glob\n",
    "import os\n",
    "import tarfile\n",
    "import re"
   ]
  },
  {
   "cell_type": "code",
   "execution_count": null,
   "id": "1b2a3222-1a3f-4f94-b097-45cec86bf0bd",
   "metadata": {},
   "outputs": [],
   "source": [
    "PREFIX = \"/home/jpivarski/storage/data/physicists/forks-of-cmssw-2022-03-04\""
   ]
  },
  {
   "cell_type": "code",
   "execution_count": null,
   "id": "0ccd8c0a-17e5-4bea-8d47-31af80fd6be6",
   "metadata": {},
   "outputs": [],
   "source": [
    "userrepos = []\n",
    "for filename in glob.glob(PREFIX + \"/user-repos/*.json\"):\n",
    "    userrepos.extend(json.load(open(filename)))"
   ]
  },
  {
   "cell_type": "code",
   "execution_count": null,
   "id": "7b6db28c-56ed-434c-9377-fed7866b7467",
   "metadata": {},
   "outputs": [],
   "source": [
    "len(set([repo[\"full_name\"] for repo in userrepos if not repo[\"fork\"]]))"
   ]
  },
  {
   "cell_type": "code",
   "execution_count": null,
   "id": "ebaca07a-d1e0-4537-81e1-5a4ec075b26d",
   "metadata": {},
   "outputs": [],
   "source": [
    "len([repo for repo in userrepos if not repo[\"fork\"]])"
   ]
  },
  {
   "cell_type": "code",
   "execution_count": null,
   "id": "4bb4af16-01aa-47d3-9bb4-ede53251d932",
   "metadata": {},
   "outputs": [],
   "source": [
    "regex = {\n",
    "    \"\": re.compile(r\"\\b(import\\s+uproot[34]*|from\\s+uproot[34]*\\s+import)\\b\"),\n",
    "    \"\": re.compile(r\"\\b(import\\s+awkward[01]*|from\\s+awkward[01]*\\s+import)\\b\"),\n",
    "    \"\": re.compile(r\"\\b(import\\s+coffea*|from\\s+coffea*\\s+import)\\b\"),\n",
    "    \"\": re.compile(r\"\\b(import\\s+ROOT*|from\\s+ROOT*\\s+import|include\\s*[<\\\"]TFile|include\\s*[<\\\"]TTree|include\\s*[<\\\"]TH[123]|include\\s*[<\\\"]TMVA|include\\s*[<\\\"]ROOT)\\b\"),\n",
    "    \"\": re.compile(r\"\\b(import\\s+numpy*|from\\s+numpy*\\s+import)\\b\"),\n",
    "    \"\": re.compile(r\"\\b(import\\s+scipy*|from\\s+scipy*\\s+import)\\b\"),\n",
    "    \"\": re.compile(r\"\\b(import\\s+matplotlib*|from\\s+matplotlib*\\s+import)\\b\"),\n",
    "    \"\": re.compile(r\"\\b(import\\s+pandas*|from\\s+pandas*\\s+import)\\b\"),\n",
    "    \"\": re.compile(r\"\\b(import\\s+sklearn*|from\\s+sklearn*\\s+import)\\b\"),\n",
    "    \"\": re.compile(r\"\\b(import\\s+tensorflow*|from\\s+tensorflow*\\s+import)\\b\"),\n",
    "    \"\": re.compile(r\"\\b(import\\s+keras*|from\\s+keras*\\s+import)\\b\"),\n",
    "    \"\": re.compile(r\"\\b(import\\s+torch*|from\\s+torch*\\s+import)\\b\"),\n",
    "    \"\": re.compile(r\"\\b(import\\s+jax*|from\\s+jax*\\s+import)\\b\"),\n",
    "    \"\": re.compile(r\"\\b(import\\s+xgboost*|from\\s+xgboost*\\s+import)\\b\"),\n",
    "    \"\": re.compile(r\"\\b(import\\s+scipy*|from\\s+scipy*\\s+import)\\b\"),\n",
    "}"
   ]
  },
  {
   "cell_type": "code",
   "execution_count": null,
   "id": "b9b7ef2d-6753-4b9f-bcfb-7060d2fd1452",
   "metadata": {},
   "outputs": [],
   "source": [
    "python_import = re.compile(r\"\\bimport\\s+([A-Za-z_][A-Za-z_0-9]*)\\b\")\n",
    "python_fromimport = re.compile(r\"\\bfrom\\s+([A-Za-z_][A-Za-z_0-9]*)\\s+import\\b\")\n",
    "cpp_include_bracket = re.compile(r\"#include\\s*<\\s*([^>]+)\\s*>\")\n",
    "cpp_include_quote = re.compile(r\"\\#include\\s*\\\"\\s*([^\\\"]+)\\s*\\\"\")"
   ]
  },
  {
   "cell_type": "code",
   "execution_count": null,
   "id": "93f448dc-f1a3-4a5d-9148-6c05ca4955c1",
   "metadata": {},
   "outputs": [],
   "source": [
    "python_import.search(\"import  something\").group(1)"
   ]
  },
  {
   "cell_type": "code",
   "execution_count": null,
   "id": "afc51eb0-1637-4fd6-b249-9ab84cbff64d",
   "metadata": {},
   "outputs": [],
   "source": [
    "python_fromimport.search(\"from something import *\").group(1)"
   ]
  },
  {
   "cell_type": "code",
   "execution_count": null,
   "id": "875b28c3-fc39-4c30-9bbf-87d34d2843a4",
   "metadata": {},
   "outputs": [],
   "source": [
    "cpp_include_bracket.search(\"#include<something>\").group(1)"
   ]
  },
  {
   "cell_type": "code",
   "execution_count": null,
   "id": "de1a42cc-87a2-4855-910f-d1f9a8fe3c40",
   "metadata": {},
   "outputs": [],
   "source": [
    "cpp_include_quote.search(\"#include\\\"something\\\"\").group(1)"
   ]
  },
  {
   "cell_type": "code",
   "execution_count": null,
   "id": "e385533c-1189-4e83-94ba-9d3132138c41",
   "metadata": {},
   "outputs": [],
   "source": [
    "for repo in userrepos:\n",
    "    if not repo[\"fork\"]:\n",
    "        owner, reponame = repo[\"full_name\"].split(\"/\")\n",
    "        created_at = datetime.datetime.fromisoformat(repo[\"created_at\"].rstrip(\"Z\"))\n",
    "        matches = {x: False for x in regex}\n",
    "        tarname = f\"{PREFIX}/actual-repos-2/{owner}-{reponame}.tgz\"\n",
    "        if os.path.exists(tarname):\n",
    "            with tarfile.open(tarname) as tarball:\n",
    "                # with tarball.extractfile(f\"{owner}-{reponame}/git-log.json\") as file:\n",
    "                #     ages = {}\n",
    "                #     for commit in git_log[\"log\"]:\n",
    "                #         timestamp = commit[\"commit_time\"]\n",
    "                #         for delta in commit[\"deltas\"]:\n",
    "                #             if delta[\"new\"] not in ages or timestamp > ages[delta[\"new\"]]:\n",
    "                #                 ages[delta[\"new\"]] = timestamp\n",
    "                for name in tarball.getnames():\n",
    "                    if name.endswith(\".py\"):\n",
    "                        with tarball.extractfile(name) as file:\n",
    "                            source = file.read().decode()\n",
    "                            print(name, created_at)\n",
    "            break"
   ]
  },
  {
   "cell_type": "code",
   "execution_count": null,
   "id": "27b7f287-6714-4ae0-99a5-a24b2b426d43",
   "metadata": {},
   "outputs": [],
   "source": []
  }
 ],
 "metadata": {
  "kernelspec": {
   "display_name": "Python 3 (ipykernel)",
   "language": "python",
   "name": "python3"
  },
  "language_info": {
   "codemirror_mode": {
    "name": "ipython",
    "version": 3
   },
   "file_extension": ".py",
   "mimetype": "text/x-python",
   "name": "python",
   "nbconvert_exporter": "python",
   "pygments_lexer": "ipython3",
   "version": "3.9.10"
  }
 },
 "nbformat": 4,
 "nbformat_minor": 5
}
