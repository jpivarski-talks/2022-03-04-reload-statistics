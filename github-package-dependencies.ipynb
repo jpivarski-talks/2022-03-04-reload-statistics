{
 "cells": [
  {
   "cell_type": "code",
   "execution_count": 1,
   "id": "1279e3e5-d3fa-4b62-88d6-53fd50633dcc",
   "metadata": {},
   "outputs": [],
   "source": [
    "import matplotlib.pyplot as plt\n",
    "import pandas as pd"
   ]
  },
  {
   "cell_type": "code",
   "execution_count": 2,
   "id": "667a8e33-5efa-4ccc-946e-9f7494b9baec",
   "metadata": {},
   "outputs": [
    {
     "data": {
      "text/html": [
       "<div>\n",
       "<style scoped>\n",
       "    .dataframe tbody tr th:only-of-type {\n",
       "        vertical-align: middle;\n",
       "    }\n",
       "\n",
       "    .dataframe tbody tr th {\n",
       "        vertical-align: top;\n",
       "    }\n",
       "\n",
       "    .dataframe thead th {\n",
       "        text-align: right;\n",
       "    }\n",
       "</style>\n",
       "<table border=\"1\" class=\"dataframe\">\n",
       "  <thead>\n",
       "    <tr style=\"text-align: right;\">\n",
       "      <th></th>\n",
       "      <th>owner</th>\n",
       "      <th>repo</th>\n",
       "      <th>created</th>\n",
       "      <th>updated</th>\n",
       "      <th>filename</th>\n",
       "      <th>suffix</th>\n",
       "      <th>package</th>\n",
       "      <th>how</th>\n",
       "    </tr>\n",
       "  </thead>\n",
       "  <tbody>\n",
       "    <tr>\n",
       "      <th>0</th>\n",
       "      <td>helee</td>\n",
       "      <td>helee/HN_Plotter</td>\n",
       "      <td>2020-03-11 08:11:46</td>\n",
       "      <td>2020-07-15 18:07:49</td>\n",
       "      <td>helee-HN_Plotter/makePlots_muon_eachYear.C</td>\n",
       "      <td>C</td>\n",
       "      <td>iostream</td>\n",
       "      <td>cpp_include_bracket</td>\n",
       "    </tr>\n",
       "    <tr>\n",
       "      <th>1</th>\n",
       "      <td>helee</td>\n",
       "      <td>helee/HN_Plotter</td>\n",
       "      <td>2020-03-11 08:11:46</td>\n",
       "      <td>2020-07-15 18:07:49</td>\n",
       "      <td>helee-HN_Plotter/makePlots_TT_eachYear.C</td>\n",
       "      <td>C</td>\n",
       "      <td>iostream</td>\n",
       "      <td>cpp_include_bracket</td>\n",
       "    </tr>\n",
       "    <tr>\n",
       "      <th>2</th>\n",
       "      <td>helee</td>\n",
       "      <td>helee/HN_Plotter</td>\n",
       "      <td>2020-03-11 08:11:46</td>\n",
       "      <td>2020-07-15 18:07:49</td>\n",
       "      <td>helee-HN_Plotter/makePlots_DY_eachYear.C</td>\n",
       "      <td>C</td>\n",
       "      <td>iostream</td>\n",
       "      <td>cpp_include_bracket</td>\n",
       "    </tr>\n",
       "    <tr>\n",
       "      <th>3</th>\n",
       "      <td>helee</td>\n",
       "      <td>helee/HN_Plotter</td>\n",
       "      <td>2020-03-11 08:11:46</td>\n",
       "      <td>2020-07-15 18:07:49</td>\n",
       "      <td>helee-HN_Plotter/makePlots_electron_eachYear.C</td>\n",
       "      <td>C</td>\n",
       "      <td>iostream</td>\n",
       "      <td>cpp_include_bracket</td>\n",
       "    </tr>\n",
       "    <tr>\n",
       "      <th>4</th>\n",
       "      <td>helee</td>\n",
       "      <td>helee/TnP_analysis</td>\n",
       "      <td>2018-10-23 06:25:20</td>\n",
       "      <td>2018-10-23 06:32:47</td>\n",
       "      <td>helee-TnP_analysis/treeAnalysis.C</td>\n",
       "      <td>C</td>\n",
       "      <td>TH2.h</td>\n",
       "      <td>cpp_include_bracket</td>\n",
       "    </tr>\n",
       "    <tr>\n",
       "      <th>...</th>\n",
       "      <td>...</td>\n",
       "      <td>...</td>\n",
       "      <td>...</td>\n",
       "      <td>...</td>\n",
       "      <td>...</td>\n",
       "      <td>...</td>\n",
       "      <td>...</td>\n",
       "      <td>...</td>\n",
       "    </tr>\n",
       "    <tr>\n",
       "      <th>5224784</th>\n",
       "      <td>hkaushalya</td>\n",
       "      <td>hkaushalya/haddws</td>\n",
       "      <td>2014-01-21 23:24:01</td>\n",
       "      <td>2021-09-09 13:34:32</td>\n",
       "      <td>hkaushalya-haddws/haddws.C</td>\n",
       "      <td>C</td>\n",
       "      <td>TH1.h</td>\n",
       "      <td>cpp_include_quote</td>\n",
       "    </tr>\n",
       "    <tr>\n",
       "      <th>5224785</th>\n",
       "      <td>hkaushalya</td>\n",
       "      <td>hkaushalya/haddws</td>\n",
       "      <td>2014-01-21 23:24:01</td>\n",
       "      <td>2021-09-09 13:34:32</td>\n",
       "      <td>hkaushalya-haddws/haddws.C</td>\n",
       "      <td>C</td>\n",
       "      <td>TTree.h</td>\n",
       "      <td>cpp_include_quote</td>\n",
       "    </tr>\n",
       "    <tr>\n",
       "      <th>5224786</th>\n",
       "      <td>hkaushalya</td>\n",
       "      <td>hkaushalya/haddws</td>\n",
       "      <td>2014-01-21 23:24:01</td>\n",
       "      <td>2021-09-09 13:34:32</td>\n",
       "      <td>hkaushalya-haddws/haddws.C</td>\n",
       "      <td>C</td>\n",
       "      <td>TKey.h</td>\n",
       "      <td>cpp_include_quote</td>\n",
       "    </tr>\n",
       "    <tr>\n",
       "      <th>5224787</th>\n",
       "      <td>hkaushalya</td>\n",
       "      <td>hkaushalya/haddws</td>\n",
       "      <td>2014-01-21 23:24:01</td>\n",
       "      <td>2021-09-09 13:34:32</td>\n",
       "      <td>hkaushalya-haddws/haddws.C</td>\n",
       "      <td>C</td>\n",
       "      <td>Riostream.h</td>\n",
       "      <td>cpp_include_quote</td>\n",
       "    </tr>\n",
       "    <tr>\n",
       "      <th>5224788</th>\n",
       "      <td>hkaushalya</td>\n",
       "      <td>hkaushalya/haddws</td>\n",
       "      <td>2014-01-21 23:24:01</td>\n",
       "      <td>2021-09-09 13:34:32</td>\n",
       "      <td>hkaushalya-haddws/haddws.C</td>\n",
       "      <td>C</td>\n",
       "      <td>TProfile.h</td>\n",
       "      <td>cpp_include_quote</td>\n",
       "    </tr>\n",
       "  </tbody>\n",
       "</table>\n",
       "<p>5224789 rows × 8 columns</p>\n",
       "</div>"
      ],
      "text/plain": [
       "              owner                repo             created  \\\n",
       "0             helee    helee/HN_Plotter 2020-03-11 08:11:46   \n",
       "1             helee    helee/HN_Plotter 2020-03-11 08:11:46   \n",
       "2             helee    helee/HN_Plotter 2020-03-11 08:11:46   \n",
       "3             helee    helee/HN_Plotter 2020-03-11 08:11:46   \n",
       "4             helee  helee/TnP_analysis 2018-10-23 06:25:20   \n",
       "...             ...                 ...                 ...   \n",
       "5224784  hkaushalya   hkaushalya/haddws 2014-01-21 23:24:01   \n",
       "5224785  hkaushalya   hkaushalya/haddws 2014-01-21 23:24:01   \n",
       "5224786  hkaushalya   hkaushalya/haddws 2014-01-21 23:24:01   \n",
       "5224787  hkaushalya   hkaushalya/haddws 2014-01-21 23:24:01   \n",
       "5224788  hkaushalya   hkaushalya/haddws 2014-01-21 23:24:01   \n",
       "\n",
       "                    updated                                        filename  \\\n",
       "0       2020-07-15 18:07:49      helee-HN_Plotter/makePlots_muon_eachYear.C   \n",
       "1       2020-07-15 18:07:49        helee-HN_Plotter/makePlots_TT_eachYear.C   \n",
       "2       2020-07-15 18:07:49        helee-HN_Plotter/makePlots_DY_eachYear.C   \n",
       "3       2020-07-15 18:07:49  helee-HN_Plotter/makePlots_electron_eachYear.C   \n",
       "4       2018-10-23 06:32:47               helee-TnP_analysis/treeAnalysis.C   \n",
       "...                     ...                                             ...   \n",
       "5224784 2021-09-09 13:34:32                      hkaushalya-haddws/haddws.C   \n",
       "5224785 2021-09-09 13:34:32                      hkaushalya-haddws/haddws.C   \n",
       "5224786 2021-09-09 13:34:32                      hkaushalya-haddws/haddws.C   \n",
       "5224787 2021-09-09 13:34:32                      hkaushalya-haddws/haddws.C   \n",
       "5224788 2021-09-09 13:34:32                      hkaushalya-haddws/haddws.C   \n",
       "\n",
       "        suffix      package                  how  \n",
       "0            C     iostream  cpp_include_bracket  \n",
       "1            C     iostream  cpp_include_bracket  \n",
       "2            C     iostream  cpp_include_bracket  \n",
       "3            C     iostream  cpp_include_bracket  \n",
       "4            C        TH2.h  cpp_include_bracket  \n",
       "...        ...          ...                  ...  \n",
       "5224784      C        TH1.h    cpp_include_quote  \n",
       "5224785      C      TTree.h    cpp_include_quote  \n",
       "5224786      C       TKey.h    cpp_include_quote  \n",
       "5224787      C  Riostream.h    cpp_include_quote  \n",
       "5224788      C   TProfile.h    cpp_include_quote  \n",
       "\n",
       "[5224789 rows x 8 columns]"
      ]
     },
     "execution_count": 2,
     "metadata": {},
     "output_type": "execute_result"
    }
   ],
   "source": [
    "matches_df = pd.read_csv(\"~/storage/data/physicists/forks-of-cmssw-2022-03-04/GitHub-CMSSW-user-nonfork-dependencies-2022-03-04.csv\", parse_dates=[\"created\", \"updated\"])\n",
    "matches_df"
   ]
  },
  {
   "cell_type": "code",
   "execution_count": 3,
   "id": "bb405ef2-0a6f-448f-a350-21879b4a6cab",
   "metadata": {},
   "outputs": [],
   "source": [
    "matches_df[\"date\"] = matches_df[\"created\"] + 0.5 * (matches_df[\"updated\"] - matches_df[\"created\"])"
   ]
  },
  {
   "cell_type": "code",
   "execution_count": 4,
   "id": "78ce0f9a-533e-4884-a351-4f5fb38b86c5",
   "metadata": {},
   "outputs": [
    {
     "data": {
      "text/html": [
       "<div>\n",
       "<style scoped>\n",
       "    .dataframe tbody tr th:only-of-type {\n",
       "        vertical-align: middle;\n",
       "    }\n",
       "\n",
       "    .dataframe tbody tr th {\n",
       "        vertical-align: top;\n",
       "    }\n",
       "\n",
       "    .dataframe thead th {\n",
       "        text-align: right;\n",
       "    }\n",
       "</style>\n",
       "<table border=\"1\" class=\"dataframe\">\n",
       "  <thead>\n",
       "    <tr style=\"text-align: right;\">\n",
       "      <th></th>\n",
       "      <th>repo</th>\n",
       "      <th>created</th>\n",
       "      <th>updated</th>\n",
       "      <th>filename</th>\n",
       "      <th>suffix</th>\n",
       "      <th>package</th>\n",
       "      <th>how</th>\n",
       "      <th>date</th>\n",
       "    </tr>\n",
       "    <tr>\n",
       "      <th>owner</th>\n",
       "      <th></th>\n",
       "      <th></th>\n",
       "      <th></th>\n",
       "      <th></th>\n",
       "      <th></th>\n",
       "      <th></th>\n",
       "      <th></th>\n",
       "      <th></th>\n",
       "    </tr>\n",
       "  </thead>\n",
       "  <tbody>\n",
       "    <tr>\n",
       "      <th>3wolf3</th>\n",
       "      <td>172</td>\n",
       "      <td>172</td>\n",
       "      <td>172</td>\n",
       "      <td>172</td>\n",
       "      <td>172</td>\n",
       "      <td>172</td>\n",
       "      <td>172</td>\n",
       "      <td>172</td>\n",
       "    </tr>\n",
       "    <tr>\n",
       "      <th>4quarks</th>\n",
       "      <td>505</td>\n",
       "      <td>505</td>\n",
       "      <td>505</td>\n",
       "      <td>505</td>\n",
       "      <td>505</td>\n",
       "      <td>505</td>\n",
       "      <td>505</td>\n",
       "      <td>505</td>\n",
       "    </tr>\n",
       "    <tr>\n",
       "      <th>7quantumphysics</th>\n",
       "      <td>31</td>\n",
       "      <td>31</td>\n",
       "      <td>31</td>\n",
       "      <td>31</td>\n",
       "      <td>31</td>\n",
       "      <td>31</td>\n",
       "      <td>31</td>\n",
       "      <td>31</td>\n",
       "    </tr>\n",
       "    <tr>\n",
       "      <th>936-BCruz</th>\n",
       "      <td>26</td>\n",
       "      <td>26</td>\n",
       "      <td>26</td>\n",
       "      <td>26</td>\n",
       "      <td>26</td>\n",
       "      <td>26</td>\n",
       "      <td>26</td>\n",
       "      <td>26</td>\n",
       "    </tr>\n",
       "    <tr>\n",
       "      <th>99bbarton</th>\n",
       "      <td>464</td>\n",
       "      <td>464</td>\n",
       "      <td>464</td>\n",
       "      <td>464</td>\n",
       "      <td>464</td>\n",
       "      <td>464</td>\n",
       "      <td>464</td>\n",
       "      <td>464</td>\n",
       "    </tr>\n",
       "    <tr>\n",
       "      <th>...</th>\n",
       "      <td>...</td>\n",
       "      <td>...</td>\n",
       "      <td>...</td>\n",
       "      <td>...</td>\n",
       "      <td>...</td>\n",
       "      <td>...</td>\n",
       "      <td>...</td>\n",
       "      <td>...</td>\n",
       "    </tr>\n",
       "    <tr>\n",
       "      <th>zuranski</th>\n",
       "      <td>964</td>\n",
       "      <td>964</td>\n",
       "      <td>964</td>\n",
       "      <td>964</td>\n",
       "      <td>964</td>\n",
       "      <td>964</td>\n",
       "      <td>964</td>\n",
       "      <td>964</td>\n",
       "    </tr>\n",
       "    <tr>\n",
       "      <th>zwarner</th>\n",
       "      <td>731</td>\n",
       "      <td>731</td>\n",
       "      <td>731</td>\n",
       "      <td>731</td>\n",
       "      <td>731</td>\n",
       "      <td>731</td>\n",
       "      <td>731</td>\n",
       "      <td>731</td>\n",
       "    </tr>\n",
       "    <tr>\n",
       "      <th>zwimpee</th>\n",
       "      <td>209</td>\n",
       "      <td>209</td>\n",
       "      <td>209</td>\n",
       "      <td>209</td>\n",
       "      <td>209</td>\n",
       "      <td>209</td>\n",
       "      <td>209</td>\n",
       "      <td>209</td>\n",
       "    </tr>\n",
       "    <tr>\n",
       "      <th>zxmei1</th>\n",
       "      <td>168</td>\n",
       "      <td>168</td>\n",
       "      <td>168</td>\n",
       "      <td>168</td>\n",
       "      <td>168</td>\n",
       "      <td>168</td>\n",
       "      <td>168</td>\n",
       "      <td>168</td>\n",
       "    </tr>\n",
       "    <tr>\n",
       "      <th>zygisx</th>\n",
       "      <td>213</td>\n",
       "      <td>213</td>\n",
       "      <td>213</td>\n",
       "      <td>213</td>\n",
       "      <td>213</td>\n",
       "      <td>213</td>\n",
       "      <td>213</td>\n",
       "      <td>213</td>\n",
       "    </tr>\n",
       "  </tbody>\n",
       "</table>\n",
       "<p>2172 rows × 8 columns</p>\n",
       "</div>"
      ],
      "text/plain": [
       "                 repo  created  updated  filename  suffix  package  how  date\n",
       "owner                                                                        \n",
       "3wolf3            172      172      172       172     172      172  172   172\n",
       "4quarks           505      505      505       505     505      505  505   505\n",
       "7quantumphysics    31       31       31        31      31       31   31    31\n",
       "936-BCruz          26       26       26        26      26       26   26    26\n",
       "99bbarton         464      464      464       464     464      464  464   464\n",
       "...               ...      ...      ...       ...     ...      ...  ...   ...\n",
       "zuranski          964      964      964       964     964      964  964   964\n",
       "zwarner           731      731      731       731     731      731  731   731\n",
       "zwimpee           209      209      209       209     209      209  209   209\n",
       "zxmei1            168      168      168       168     168      168  168   168\n",
       "zygisx            213      213      213       213     213      213  213   213\n",
       "\n",
       "[2172 rows x 8 columns]"
      ]
     },
     "execution_count": 4,
     "metadata": {},
     "output_type": "execute_result"
    }
   ],
   "source": [
    "matches_df.groupby(\"owner\").count()"
   ]
  },
  {
   "cell_type": "code",
   "execution_count": 5,
   "id": "82b6daf1-4174-4f3b-9df9-171edf5611a0",
   "metadata": {},
   "outputs": [
    {
     "data": {
      "text/html": [
       "<div>\n",
       "<style scoped>\n",
       "    .dataframe tbody tr th:only-of-type {\n",
       "        vertical-align: middle;\n",
       "    }\n",
       "\n",
       "    .dataframe tbody tr th {\n",
       "        vertical-align: top;\n",
       "    }\n",
       "\n",
       "    .dataframe thead th {\n",
       "        text-align: right;\n",
       "    }\n",
       "</style>\n",
       "<table border=\"1\" class=\"dataframe\">\n",
       "  <thead>\n",
       "    <tr style=\"text-align: right;\">\n",
       "      <th></th>\n",
       "      <th>owner</th>\n",
       "      <th>created</th>\n",
       "      <th>updated</th>\n",
       "      <th>filename</th>\n",
       "      <th>suffix</th>\n",
       "      <th>package</th>\n",
       "      <th>how</th>\n",
       "      <th>date</th>\n",
       "    </tr>\n",
       "    <tr>\n",
       "      <th>repo</th>\n",
       "      <th></th>\n",
       "      <th></th>\n",
       "      <th></th>\n",
       "      <th></th>\n",
       "      <th></th>\n",
       "      <th></th>\n",
       "      <th></th>\n",
       "      <th></th>\n",
       "    </tr>\n",
       "  </thead>\n",
       "  <tbody>\n",
       "    <tr>\n",
       "      <th>3wolf3/Ragnarok</th>\n",
       "      <td>84</td>\n",
       "      <td>84</td>\n",
       "      <td>84</td>\n",
       "      <td>84</td>\n",
       "      <td>84</td>\n",
       "      <td>84</td>\n",
       "      <td>84</td>\n",
       "      <td>84</td>\n",
       "    </tr>\n",
       "    <tr>\n",
       "      <th>3wolf3/SUSYggAnalysis</th>\n",
       "      <td>88</td>\n",
       "      <td>88</td>\n",
       "      <td>88</td>\n",
       "      <td>88</td>\n",
       "      <td>88</td>\n",
       "      <td>88</td>\n",
       "      <td>88</td>\n",
       "      <td>88</td>\n",
       "    </tr>\n",
       "    <tr>\n",
       "      <th>4quarks/CMS_Grid_Support</th>\n",
       "      <td>103</td>\n",
       "      <td>103</td>\n",
       "      <td>103</td>\n",
       "      <td>103</td>\n",
       "      <td>103</td>\n",
       "      <td>103</td>\n",
       "      <td>103</td>\n",
       "      <td>103</td>\n",
       "    </tr>\n",
       "    <tr>\n",
       "      <th>4quarks/FlashWit</th>\n",
       "      <td>27</td>\n",
       "      <td>27</td>\n",
       "      <td>27</td>\n",
       "      <td>27</td>\n",
       "      <td>27</td>\n",
       "      <td>27</td>\n",
       "      <td>27</td>\n",
       "      <td>27</td>\n",
       "    </tr>\n",
       "    <tr>\n",
       "      <th>4quarks/GlacierAnalysis</th>\n",
       "      <td>5</td>\n",
       "      <td>5</td>\n",
       "      <td>5</td>\n",
       "      <td>5</td>\n",
       "      <td>5</td>\n",
       "      <td>5</td>\n",
       "      <td>5</td>\n",
       "      <td>5</td>\n",
       "    </tr>\n",
       "    <tr>\n",
       "      <th>...</th>\n",
       "      <td>...</td>\n",
       "      <td>...</td>\n",
       "      <td>...</td>\n",
       "      <td>...</td>\n",
       "      <td>...</td>\n",
       "      <td>...</td>\n",
       "      <td>...</td>\n",
       "      <td>...</td>\n",
       "    </tr>\n",
       "    <tr>\n",
       "      <th>zxmei1/2020Research</th>\n",
       "      <td>168</td>\n",
       "      <td>168</td>\n",
       "      <td>168</td>\n",
       "      <td>168</td>\n",
       "      <td>168</td>\n",
       "      <td>168</td>\n",
       "      <td>168</td>\n",
       "      <td>168</td>\n",
       "    </tr>\n",
       "    <tr>\n",
       "      <th>zygisx/BattleCity</th>\n",
       "      <td>36</td>\n",
       "      <td>36</td>\n",
       "      <td>36</td>\n",
       "      <td>36</td>\n",
       "      <td>36</td>\n",
       "      <td>36</td>\n",
       "      <td>36</td>\n",
       "      <td>36</td>\n",
       "    </tr>\n",
       "    <tr>\n",
       "      <th>zygisx/irc-client</th>\n",
       "      <td>7</td>\n",
       "      <td>7</td>\n",
       "      <td>7</td>\n",
       "      <td>7</td>\n",
       "      <td>7</td>\n",
       "      <td>7</td>\n",
       "      <td>7</td>\n",
       "      <td>7</td>\n",
       "    </tr>\n",
       "    <tr>\n",
       "      <th>zygisx/numeral-methods</th>\n",
       "      <td>139</td>\n",
       "      <td>139</td>\n",
       "      <td>139</td>\n",
       "      <td>139</td>\n",
       "      <td>139</td>\n",
       "      <td>139</td>\n",
       "      <td>139</td>\n",
       "      <td>139</td>\n",
       "    </tr>\n",
       "    <tr>\n",
       "      <th>zygisx/qr-service</th>\n",
       "      <td>31</td>\n",
       "      <td>31</td>\n",
       "      <td>31</td>\n",
       "      <td>31</td>\n",
       "      <td>31</td>\n",
       "      <td>31</td>\n",
       "      <td>31</td>\n",
       "      <td>31</td>\n",
       "    </tr>\n",
       "  </tbody>\n",
       "</table>\n",
       "<p>11635 rows × 8 columns</p>\n",
       "</div>"
      ],
      "text/plain": [
       "                          owner  created  updated  filename  suffix  package  \\\n",
       "repo                                                                           \n",
       "3wolf3/Ragnarok              84       84       84        84      84       84   \n",
       "3wolf3/SUSYggAnalysis        88       88       88        88      88       88   \n",
       "4quarks/CMS_Grid_Support    103      103      103       103     103      103   \n",
       "4quarks/FlashWit             27       27       27        27      27       27   \n",
       "4quarks/GlacierAnalysis       5        5        5         5       5        5   \n",
       "...                         ...      ...      ...       ...     ...      ...   \n",
       "zxmei1/2020Research         168      168      168       168     168      168   \n",
       "zygisx/BattleCity            36       36       36        36      36       36   \n",
       "zygisx/irc-client             7        7        7         7       7        7   \n",
       "zygisx/numeral-methods      139      139      139       139     139      139   \n",
       "zygisx/qr-service            31       31       31        31      31       31   \n",
       "\n",
       "                          how  date  \n",
       "repo                                 \n",
       "3wolf3/Ragnarok            84    84  \n",
       "3wolf3/SUSYggAnalysis      88    88  \n",
       "4quarks/CMS_Grid_Support  103   103  \n",
       "4quarks/FlashWit           27    27  \n",
       "4quarks/GlacierAnalysis     5     5  \n",
       "...                       ...   ...  \n",
       "zxmei1/2020Research       168   168  \n",
       "zygisx/BattleCity          36    36  \n",
       "zygisx/irc-client           7     7  \n",
       "zygisx/numeral-methods    139   139  \n",
       "zygisx/qr-service          31    31  \n",
       "\n",
       "[11635 rows x 8 columns]"
      ]
     },
     "execution_count": 5,
     "metadata": {},
     "output_type": "execute_result"
    }
   ],
   "source": [
    "matches_df.groupby(\"repo\").count()"
   ]
  },
  {
   "cell_type": "markdown",
   "id": "efb2922f-070d-4437-a9e9-3f56f40dac2c",
   "metadata": {},
   "source": [
    "### Top file suffixes"
   ]
  },
  {
   "cell_type": "code",
   "execution_count": 4,
   "id": "68cdacad-03e3-424e-94b4-3cf7aafe554d",
   "metadata": {},
   "outputs": [
    {
     "data": {
      "text/plain": [
       "suffix\n",
       "py       327740\n",
       "h        168174\n",
       "cc       120165\n",
       "C         65537\n",
       "cpp       48980\n",
       "c         34114\n",
       "cxx       28209\n",
       "hpp       27206\n",
       "hh        19873\n",
       "ipynb      8303\n",
       "H           667\n",
       "c++          73\n",
       "hh~          20\n",
       "json         15\n",
       "CPP          10\n",
       "CC            9\n",
       "Name: how, dtype: int64"
      ]
     },
     "execution_count": 4,
     "metadata": {},
     "output_type": "execute_result"
    }
   ],
   "source": [
    "matches_df[[\"filename\", \"suffix\", \"how\"]].groupby(\"filename\").first().groupby(\"suffix\").count()[\"how\"].sort_values(ascending=False).head(16)"
   ]
  },
  {
   "cell_type": "markdown",
   "id": "234e44b4-d01c-420c-b636-2400a884f98f",
   "metadata": {},
   "source": [
    "### Identify language"
   ]
  },
  {
   "cell_type": "code",
   "execution_count": 5,
   "id": "d1d01772-bc0b-4047-989a-bb3c68a4471e",
   "metadata": {},
   "outputs": [],
   "source": [
    "is_python = (matches_df[\"suffix\"] == \"py\") & ((matches_df[\"how\"] == \"python_import\") | (matches_df[\"how\"] == \"python_fromimport\"))"
   ]
  },
  {
   "cell_type": "code",
   "execution_count": 6,
   "id": "1917e913-a6e6-4369-8474-997a676744e7",
   "metadata": {},
   "outputs": [],
   "source": [
    "is_python_jupyter = (matches_df[\"suffix\"] == \"ipynb\") & ((matches_df[\"how\"] == \"python_import\") | (matches_df[\"how\"] == \"python_fromimport\"))"
   ]
  },
  {
   "cell_type": "code",
   "execution_count": 7,
   "id": "e29ee694-b124-4e38-86ff-d2153e71f542",
   "metadata": {},
   "outputs": [],
   "source": [
    "is_cpp = (matches_df[\"suffix\"].isin([\"h\", \"cc\", \"C\", \"cpp\", \"c\", \"cxx\", \"hpp\", \"hh\", \"H\", \"c++\", \"CPP\", \"CC\"])) & \\\n",
    "         ((matches_df[\"how\"] == \"cpp_include_bracket\") | (matches_df[\"how\"] == \"cpp_include_quote\"))"
   ]
  },
  {
   "cell_type": "code",
   "execution_count": 8,
   "id": "d849e08e-5c42-4aee-8644-9370580d956f",
   "metadata": {},
   "outputs": [],
   "source": [
    "is_cpp_jupyter = (matches_df[\"suffix\"] == \"ipynb\") & ((matches_df[\"how\"] == \"cpp_include_bracket\") | (matches_df[\"how\"] == \"ipynb_include_quotedquote\"))"
   ]
  },
  {
   "cell_type": "markdown",
   "id": "773bd305-6d0e-46f8-b1d2-37d0e9da2991",
   "metadata": {},
   "source": [
    "### Cut against framework Python files"
   ]
  },
  {
   "cell_type": "code",
   "execution_count": 9,
   "id": "d5f4365c-fa58-4193-9c39-377f5ddb22d1",
   "metadata": {},
   "outputs": [],
   "source": [
    "by_filename = matches_df.set_index(\"filename\")"
   ]
  },
  {
   "cell_type": "code",
   "execution_count": 10,
   "id": "829751e4-89ce-4a14-8f23-f3fbb7be1cae",
   "metadata": {},
   "outputs": [],
   "source": [
    "any_FWCore = (by_filename[\"package\"] == \"FWCore\").groupby(level=0).any()"
   ]
  },
  {
   "cell_type": "code",
   "execution_count": 11,
   "id": "992c7853-f3a4-4f5c-9d16-98c57da4f161",
   "metadata": {},
   "outputs": [],
   "source": [
    "is_framework = any_FWCore.reindex(by_filename.index).values"
   ]
  },
  {
   "cell_type": "markdown",
   "id": "b40ab8cf-0a15-4b08-bf13-09529e97e88f",
   "metadata": {},
   "source": [
    "### How many Python/Jupyter/C++ files"
   ]
  },
  {
   "cell_type": "code",
   "execution_count": 12,
   "id": "4217ec3d-9083-4034-8c7d-ac6744fc3d34",
   "metadata": {},
   "outputs": [
    {
     "data": {
      "text/plain": [
       "filename\n",
       "samhiggie-PUAnalysis/Condor/SUB_Data.py                                                                        69\n",
       "saxenapooja-HTauTau/desy_setup/CMSSW_5_3_9_patch3/python/RecoTauTag/Configuration/updateHPSPFTaus_cff.py       67\n",
       "tmrhombus-UWAnalysis/Wbb8TeV/farmoutAJ_analyzer/text/python/RecoTauTag/Configuration/updateHPSPFTaus_cff.py    67\n",
       "scooperstein-UWHiggsZHBackup/python/RecoTauTag/Configuration/updateHPSPFTaus_cff.py                            67\n",
       "rmanzoni-HTT/RecoTauTag/Configuration/python/updateHPSPFTaus_cff.py                                            65\n",
       "                                                                                                               ..\n",
       "ku-cms-TprimeAna/python/QCDHT2000v2-2_cfi.py                                                                    1\n",
       "ku-cms-TprimeAna/python/QCDHT2000v2-1_cfi.py                                                                    1\n",
       "ku-cms-TprimeAna/python/QCDHT2000_cfi.py                                                                        1\n",
       "ku-cms-TprimeAna/python/QCDHT2000-3_cfi.py                                                                      1\n",
       "jniedzie-lightbylight/RecoEgamma/EgammaElectronProducers/python/ecalDrivenElectronSeeds_cfi.py                  1\n",
       "Name: how, Length: 181697, dtype: int64"
      ]
     },
     "execution_count": 12,
     "metadata": {},
     "output_type": "execute_result"
    }
   ],
   "source": [
    "matches_df[is_python & is_framework].groupby(\"filename\").count()[\"how\"].sort_values(ascending=False)"
   ]
  },
  {
   "cell_type": "code",
   "execution_count": 13,
   "id": "452fa117-e617-42e6-af24-1609069dc86e",
   "metadata": {},
   "outputs": [
    {
     "data": {
      "text/plain": [
       "filename\n",
       "Dr15Jones-CID-App/PythonistaAppTemplate/PythonistaKit.framework/pylib_ext/sympy/polys/polytools.py        571\n",
       "PerilousApricot-CRAB2/external/DBSAPI/DBSAPI/dbsApi.py                                                    230\n",
       "tklijnsma-Archive/MEAnalysis/gc/grid-control/packages/grid_control_cms/DBSAPI/dbsApi_DEPRECATED.py        228\n",
       "Dr15Jones-CID-App/PythonistaAppTemplate/PythonistaKit.framework/pylib_ext/sympy/polys/compatibility.py    207\n",
       "Dr15Jones-CID-App/PythonistaAppTemplate/PythonistaKit.framework/pylib_ext/sympy/matrices/matrices.py      189\n",
       "                                                                                                         ... \n",
       "sergojin-L1TMuonSimulations/Analyzers/test6/utils.py                                                        1\n",
       "cms-tau-pog-TauPerformanceNANO/cmsstyle.py                                                                  1\n",
       "cms-tau-pog-TauReleaseValidation/Var.py                                                                     1\n",
       "sergojin-L1TMuonSimulations/Analyzers/test4/incrementalstats.py                                             1\n",
       "3wolf3-Ragnarok/submitMainToCondor_Data.py                                                                  1\n",
       "Name: how, Length: 146043, dtype: int64"
      ]
     },
     "execution_count": 13,
     "metadata": {},
     "output_type": "execute_result"
    }
   ],
   "source": [
    "matches_df[is_python & ~is_framework].groupby(\"filename\").count()[\"how\"].sort_values(ascending=False)"
   ]
  },
  {
   "cell_type": "code",
   "execution_count": 14,
   "id": "2455c4a8-efd6-4b0c-b0b1-4bcedcb2a002",
   "metadata": {},
   "outputs": [
    {
     "data": {
      "text/plain": [
       "filename\n",
       "NJManganelli-FourTopNAOD/test/tagVarAdd.ipynb                                 7\n",
       "cms-btv-pog-CMSPOS-BTaggingExercise/notebooks/Exercise2_reclustering.ipynb    7\n",
       "cms-btv-pog-CMSPOS-BTaggingExercise/notebooks/Exercise2.ipynb                 6\n",
       "Name: how, dtype: int64"
      ]
     },
     "execution_count": 14,
     "metadata": {},
     "output_type": "execute_result"
    }
   ],
   "source": [
    "# importing FWCore in a Jupyter Notebook would be a strange thing to do...\n",
    "matches_df[is_python_jupyter & is_framework].groupby(\"filename\").count()[\"how\"].sort_values(ascending=False)"
   ]
  },
  {
   "cell_type": "code",
   "execution_count": 15,
   "id": "72b6f61c-3d3c-42d1-ba43-517af4dbb25d",
   "metadata": {},
   "outputs": [
    {
     "data": {
      "text/plain": [
       "filename\n",
       "ocerri-BPH_RD_Analysis/Combine/deprecated/RD-MC_side_v0.ipynb                                                                               3228\n",
       "ocerri-BPH_RD_Analysis/Combine/deprecated/CreateCombineCard_v1.ipynb                                                                        1179\n",
       "thaarres-gof_tests/gof.ipynb                                                                                                                 319\n",
       "kingusiu-cofitan/Simple_combine_na3.5TeV_s5_q90.ipynb                                                                                        313\n",
       "kingusiu-cofitan/Simple_combine_na3.5TeV_s5_q30.ipynb                                                                                        313\n",
       "                                                                                                                                            ... \n",
       "mattbellis-air_monitoring/python/sample_calculations.ipynb                                                                                     1\n",
       "ssanders50-pPb_2016_v0/pPb_2016_v0/tmp/src_bak/TrackingCode/HIRun2015Ana/notebook/Performance_PbPb_MB_NTT.ipynb                                1\n",
       "ssanders50-pPb_2016_v0/pPb_2016_v0/tmp/src_bak/TrackingCode/HIRun2015Ana/notebook/Performance_PbPb_MB_TT.ipynb                                 1\n",
       "ssanders50-pPb_2016_v0/pPb_2016_v0/tmp/src_bak/TrackingCode/HIRun2015Ana/notebook/Performance_PbPb_MB_TT_CentralityDependenceStudy.ipynb       1\n",
       "ssanders50-pPb_2016/CMSSW_8_0_24/src/TrackingCode/HIRun2015Ana/notebook/Performance_PbPb_dijet_TT.ipynb                                        1\n",
       "Name: how, Length: 8281, dtype: int64"
      ]
     },
     "execution_count": 15,
     "metadata": {},
     "output_type": "execute_result"
    }
   ],
   "source": [
    "matches_df[is_python_jupyter & ~is_framework].groupby(\"filename\").count()[\"how\"].sort_values(ascending=False)"
   ]
  },
  {
   "cell_type": "code",
   "execution_count": 16,
   "id": "2d034b70-4d4b-4bef-ab05-c1709e947ab2",
   "metadata": {},
   "outputs": [
    {
     "data": {
      "text/plain": [
       "filename\n",
       "VinInn-ctest/stringLess/Configuration.cc                                                                                                         2000\n",
       "VinInn-ctest/stringLess/ConfigurationOld.cc                                                                                                      2000\n",
       "caleb-james-smith-LearningTensorflow/rnn/data/kernel.c                                                                                            902\n",
       "pjurgielewicz-ROOT_LITE_6/test/stressRooFit_tests.cxx                                                                                             563\n",
       "pjurgielewicz-ROOT_LITE/test/stressRooFit_tests.cxx                                                                                               563\n",
       "                                                                                                                                                 ... \n",
       "giorgiopizz-progetti_elettronica/arm_progetto_1/I2C_display_termometro/Drivers/CMSIS/DSP/Source/FilteringFunctions/arm_fir_lattice_init_f32.c       1\n",
       "carlosperezlara-MTDcharacterization/SiPMonly/BreakdownVoltage/temperatureTrendHDR5e13_2.C                                                           1\n",
       "carlosperezlara-MTDcharacterization/SiPMonly/annealing/currentTrendHDR2s.C                                                                          1\n",
       "sixie-UserCode/patches/RecoEcal/EgammaCoreTools/plugins/EcalClusterEnergyCorrection.h                                                               1\n",
       "zwarner-Mueller-Navalet-Jet/Kinematics100.cpp                                                                                                       1\n",
       "Name: how, Length: 513017, dtype: int64"
      ]
     },
     "execution_count": 16,
     "metadata": {},
     "output_type": "execute_result"
    }
   ],
   "source": [
    "matches_df[is_cpp].groupby(\"filename\").count()[\"how\"].sort_values(ascending=False)"
   ]
  },
  {
   "cell_type": "code",
   "execution_count": 17,
   "id": "a532b9e3-16eb-469d-ace5-7fc279e370a6",
   "metadata": {},
   "outputs": [
    {
     "data": {
      "text/plain": [
       "filename\n",
       "xiezhen-notebooks/brilsimulator.ipynb                               78\n",
       "xiezhen-notebooks/brildata.ipynb                                    64\n",
       "xiezhen-notebooks/brilmonitoring.ipynb                              35\n",
       "ocerri-PID_timing_studies/plot_script/Delphes_tree_studies.ipynb    33\n",
       "hevjinyarar-ranbox/ranbox22-MODIFIED.ipynb                          31\n",
       "                                                                    ..\n",
       "shchablo-CRO/jump/archive/MUX.ipynb                                  1\n",
       "shchablo-CRO/jump/archive/MUX_1170.ipynb                             1\n",
       "shchablo-CRO/jump/archive/ev2plot.ipynb                              1\n",
       "shchablo-CRO/jump/archive/ped2overview.ipynb                         1\n",
       "shchablo-CRO/jump/archive/13-05-21_MUX_doCode.ipynb                  1\n",
       "Name: how, Length: 86, dtype: int64"
      ]
     },
     "execution_count": 17,
     "metadata": {},
     "output_type": "execute_result"
    }
   ],
   "source": [
    "matches_df[is_cpp_jupyter].groupby(\"filename\").count()[\"how\"].sort_values(ascending=False)"
   ]
  },
  {
   "cell_type": "markdown",
   "id": "198622c4-3b74-418f-95cd-b7912f9d26ff",
   "metadata": {},
   "source": [
    "### Top Python packages (in files _without_ FWCore)"
   ]
  },
  {
   "cell_type": "code",
   "execution_count": 18,
   "id": "c0896ed6-d250-4661-91ae-88d355d3492e",
   "metadata": {},
   "outputs": [
    {
     "data": {
      "text/plain": [
       "package\n",
       "ROOT               59681\n",
       "os                 57313\n",
       "sys                40646\n",
       "numpy              29545\n",
       "matplotlib         28224\n",
       "array              21573\n",
       "math               21382\n",
       "__future__         16585\n",
       "re                 14113\n",
       "time               11685\n",
       "argparse           11557\n",
       "optparse           11384\n",
       "HiggsAnalysis       9854\n",
       "pandas              9349\n",
       "madgraph            9248\n",
       "glob                9187\n",
       "OptionParser        8617\n",
       "subprocess          7816\n",
       "json                7797\n",
       "logging             7682\n",
       "Configuration       7598\n",
       "copy                7578\n",
       "of                  6954\n",
       "datetime            6833\n",
       "config              6503\n",
       "print_function      6350\n",
       "collections         5509\n",
       "division            5056\n",
       "random              4698\n",
       "itertools           4435\n",
       "pickle              4363\n",
       "absolute_import     4351\n",
       "tensorflow          4253\n",
       "shutil              3977\n",
       "keras               3797\n",
       "internal            3544\n",
       "pprint              3420\n",
       "scipy               3329\n",
       "multiprocessing     3124\n",
       "TFile               3072\n",
       "torch               2994\n",
       "sqrt                2821\n",
       "object_library      2819\n",
       "string              2636\n",
       "import              2624\n",
       "pdb                 2497\n",
       "argv                2312\n",
       "operator            2295\n",
       "commands            2292\n",
       "httplib             2238\n",
       "Name: how, dtype: int64"
      ]
     },
     "execution_count": 18,
     "metadata": {},
     "output_type": "execute_result"
    }
   ],
   "source": [
    "matches_df[(is_python | is_python_jupyter) & ~is_framework].groupby(\"package\").count()[\"how\"].sort_values(ascending=False).head(50)"
   ]
  },
  {
   "cell_type": "markdown",
   "id": "af7abcaf-5e31-4389-aea6-b5345ee8452d",
   "metadata": {},
   "source": [
    "### Top C++ packages"
   ]
  },
  {
   "cell_type": "code",
   "execution_count": 19,
   "id": "f6c27595-3c77-4daa-bd9e-21215df45048",
   "metadata": {},
   "outputs": [
    {
     "data": {
      "text/plain": [
       "package\n",
       "iostream                                          108647\n",
       "vector                                             85492\n",
       "string                                             73077\n",
       "TFile.h                                            64713\n",
       "TCanvas.h                                          42748\n",
       "TTree.h                                            38961\n",
       "TROOT.h                                            37035\n",
       "TMath.h                                            36096\n",
       "fstream                                            36019\n",
       "FWCore/ParameterSet/interface/ParameterSet.h       31641\n",
       "sstream                                            29742\n",
       "FWCore/Framework/interface/Event.h                 29383\n",
       "TStyle.h                                           28689\n",
       "map                                                28513\n",
       "TString.h                                          28122\n",
       "FWCore/Framework/interface/MakerMacros.h           27985\n",
       "TH1.h                                              26767\n",
       "memory                                             25875\n",
       "algorithm                                          25460\n",
       "cmath                                              25177\n",
       "stdio.h                                            23602\n",
       "iomanip                                            23220\n",
       "TH1F.h                                             22891\n",
       "TLegend.h                                          22341\n",
       "stdlib.h                                           21004\n",
       "TSystem.h                                          20424\n",
       "TChain.h                                           20194\n",
       "TLorentzVector.h                                   20155\n",
       "TH2.h                                              19903\n",
       "TF1.h                                              19787\n",
       "FWCore/Framework/interface/Frameworkfwd.h          19136\n",
       "math.h                                             17261\n",
       "TH1D.h                                             15099\n",
       "string.h                                           14360\n",
       "TLatex.h                                           13154\n",
       "FWCore/MessageLogger/interface/MessageLogger.h     12555\n",
       "FWCore/Framework/interface/ESHandle.h              12305\n",
       "TH2F.h                                             12246\n",
       "TGraph.h                                           11842\n",
       "FWCore/Framework/interface/EventSetup.h            11123\n",
       "FWCore/ServiceRegistry/interface/Service.h         11052\n",
       "FWCore/Utilities/interface/InputTag.h              11049\n",
       "cstdlib                                            10701\n",
       "utility                                            10452\n",
       "TObject.h                                          10176\n",
       "FWCore/Framework/interface/EDAnalyzer.h             9821\n",
       "TGraphErrors.h                                      9787\n",
       "Riostream.h                                         9627\n",
       "RooRealVar.h                                        9208\n",
       "TGraphAsymmErrors.h                                 8783\n",
       "Name: how, dtype: int64"
      ]
     },
     "execution_count": 19,
     "metadata": {},
     "output_type": "execute_result"
    }
   ],
   "source": [
    "matches_df[(is_cpp | is_cpp_jupyter)].groupby(\"package\").count()[\"how\"].sort_values(ascending=False).head(50)"
   ]
  },
  {
   "cell_type": "markdown",
   "id": "65bb1c7e-7e8c-4f73-83b8-5e6db66bebe0",
   "metadata": {},
   "source": [
    "### Timeseries"
   ]
  },
  {
   "cell_type": "code",
   "execution_count": 20,
   "id": "6c3f3303-7a6c-45ab-93a2-52b9784eb2ff",
   "metadata": {},
   "outputs": [],
   "source": [
    "matches_root = matches_df[\n",
    "    ((is_python | is_python_jupyter) & ~is_framework & (matches_df[\"package\"] == \"ROOT\") |\n",
    "     (is_cpp | is_cpp_jupyter) & matches_df[\"package\"].isin([\n",
    "         \"TFile.h\", \"TCanvas.h\", \"TTree.h\", \"TROOT.h\", \"TMath.h\", \"TStyle.h\", \"TString.h\", \"TH1.h\", \"TH1F.h\", \"TLegend.h\", \"TSystem.h\",\n",
    "         \"TChain.h\", \"TLorentzVector.h\", \"TH2.h\", \"TF1.h\", \"TH1D.h\", \"TLatex.h\", \"TH2F.h\", \"TGraph.h\", \"TObject.h\", \"TGraphErrors.h\", \"TGraphAsymmErrors.h\"\n",
    "     ]))\n",
    "].groupby([\"repo\", \"date\"]).any().droplevel(0)[\"how\"].resample(\n",
    "    \"Q\", origin=pd.to_datetime(\"2013-01-01\")\n",
    ").sum()"
   ]
  },
  {
   "cell_type": "code",
   "execution_count": 21,
   "id": "30d42dae-bb37-4ed7-b7f1-45dc180c4f98",
   "metadata": {},
   "outputs": [],
   "source": [
    "matches_uproot = matches_df[\n",
    "    (is_python | is_python_jupyter) & ~is_framework & (matches_df[\"package\"].isin([\"uproot\", \"uproot3\", \"uproot4\"]))\n",
    "].groupby([\"repo\", \"date\"]).any().droplevel(0)[\"how\"].resample(\n",
    "    \"Q\", origin=pd.to_datetime(\"2013-01-01\")\n",
    ").sum()"
   ]
  },
  {
   "cell_type": "code",
   "execution_count": 22,
   "id": "a8bd32e3-35c9-416e-a861-f45077eef839",
   "metadata": {},
   "outputs": [],
   "source": [
    "matches_awkward = matches_df[\n",
    "    (is_python | is_python_jupyter) & ~is_framework & (matches_df[\"package\"].isin([\"awkward\", \"awkward0\", \"awkward1\"]))\n",
    "].groupby([\"repo\", \"date\"]).any().droplevel(0)[\"how\"].resample(\n",
    "    \"Q\", origin=pd.to_datetime(\"2013-01-01\")\n",
    ").sum()"
   ]
  },
  {
   "cell_type": "code",
   "execution_count": 23,
   "id": "d80c2246-eda8-4b56-acf7-aa718e0d0e31",
   "metadata": {},
   "outputs": [],
   "source": [
    "matches_framework = matches_df[\n",
    "    is_framework\n",
    "].groupby([\"repo\", \"date\"]).any().droplevel(0)[\"how\"].resample(\n",
    "    \"Q\", origin=pd.to_datetime(\"2013-01-01\")\n",
    ").sum()"
   ]
  },
  {
   "cell_type": "code",
   "execution_count": 24,
   "id": "92f97b91-f879-4186-be09-63fa82e42eef",
   "metadata": {},
   "outputs": [],
   "source": [
    "def package_timeseries(package):\n",
    "    return matches_df[\n",
    "        (is_python | is_python_jupyter) & ~is_framework & (matches_df[\"package\"] == package)\n",
    "    ].groupby([\"repo\", \"date\"]).any().droplevel(0)[\"how\"].resample(\n",
    "        \"Q\", origin=pd.to_datetime(\"2013-01-01\")\n",
    "    ).sum()"
   ]
  },
  {
   "cell_type": "code",
   "execution_count": 63,
   "id": "67e6b741-7cba-46dd-abea-4994ebd5540c",
   "metadata": {},
   "outputs": [],
   "source": [
    "comparison = pd.DataFrame({\n",
    "    \"ROOT (C++ and Python)\": matches_root,\n",
    "    \"PyROOT (Python only)\": package_timeseries(\"ROOT\"),\n",
    "    \"CMSSW configuration\": matches_framework,\n",
    "    \"numpy\": package_timeseries(\"numpy\"),\n",
    "    \"matplotlib\": package_timeseries(\"matplotlib\"),\n",
    "    \"pandas\": package_timeseries(\"pandas\"),\n",
    "    \"tensorflow\": package_timeseries(\"tensorflow\"),\n",
    "    \"uproot\": matches_uproot,\n",
    "    \"awkward\": matches_awkward,\n",
    "})"
   ]
  },
  {
   "cell_type": "code",
   "execution_count": 64,
   "id": "87ac4867-0f21-491d-8b52-fc00eee7389f",
   "metadata": {},
   "outputs": [],
   "source": [
    "c = plt.rcParams[\"axes.prop_cycle\"].by_key()[\"color\"]"
   ]
  },
  {
   "cell_type": "code",
   "execution_count": 66,
   "id": "486ec439-33b4-456d-b9f4-8fdf42bc912c",
   "metadata": {},
   "outputs": [
    {
     "data": {
      "image/png": "[encoded data removed]",
      "text/plain": [
       "<Figure size 936x432 with 1 Axes>"
      ]
     },
     "metadata": {
      "needs_background": "light"
     },
     "output_type": "display_data"
    }
   ],
   "source": [
    "fig, ax = plt.subplots()\n",
    "\n",
    "comparison.plot(ax=ax,\n",
    "                style=[\"-\", \"--\", \":\", \"-\", \"--\", \"-.\", \":\", \"-\", \"--\"],\n",
    "                color=[c[0], c[0], c[2], c[3], c[3], c[3], c[3], c[1], c[4]], figsize=(13, 6))\n",
    "\n",
    "ax.axvline(x=pd.to_datetime(\"2013-01-01\"), ls=\"--\", c=\"gray\")\n",
    "ax.text(pd.to_datetime(\"2013-01-01\"), 0.3, \"CMSSW moved to GitHub\",\n",
    "        transform=ax.get_xaxis_transform(), rotation=90, ha=\"right\", va=\"center\", c=\"gray\")\n",
    "\n",
    "ax.set_xlim(pd.to_datetime(\"2011-06-01\"), pd.to_datetime(\"2021-09-01\"))\n",
    "ax.set_ylim(0, 260)\n",
    "ax.set_xlabel(\"\")\n",
    "ax.set_ylabel(\"Number of repos matching, quarterly\")\n",
    "ax.get_figure().savefig(\"PLOTS/gihub-package-fullstudy.svg\")\n",
    "ax.get_figure().savefig(\"PLOTS/gihub-package-fullstudy.pdf\")"
   ]
  },
  {
   "cell_type": "code",
   "execution_count": 61,
   "id": "f4bec4bb-8e5c-46b2-bfdc-ff09716ca184",
   "metadata": {},
   "outputs": [],
   "source": [
    "comparison2 = pd.DataFrame({\n",
    "    \"total (all CMS user GitHub repos)\": matches_df.groupby([\"repo\", \"date\"]).any().droplevel(0)[\"how\"].resample(\n",
    "        \"Q\", origin=pd.to_datetime(\"2013-01-01\")\n",
    "    ).sum(),\n",
    "    \"with C++ files\": matches_df[is_cpp].groupby([\"repo\", \"date\"]).any().droplevel(0)[\"how\"].resample(\n",
    "        \"Q\", origin=pd.to_datetime(\"2013-01-01\")\n",
    "    ).sum(),\n",
    "    \"with Python files (not CMSSW)\": matches_df[is_python & ~is_framework].groupby([\"repo\", \"date\"]).any().droplevel(0)[\"how\"].resample(\n",
    "        \"Q\", origin=pd.to_datetime(\"2013-01-01\")\n",
    "    ).sum(),\n",
    "    \"with CMSSW configuration\": matches_df[is_python & is_framework].groupby([\"repo\", \"date\"]).any().droplevel(0)[\"how\"].resample(\n",
    "        \"Q\", origin=pd.to_datetime(\"2013-01-01\")\n",
    "    ).sum(),\n",
    "    \"with Python in Jupyter\": matches_df[is_python_jupyter].groupby([\"repo\", \"date\"]).any().droplevel(0)[\"how\"].resample(\n",
    "        \"Q\", origin=pd.to_datetime(\"2013-01-01\")\n",
    "    ).sum(),\n",
    "    \"with C++ in Jupyter\": matches_df[is_cpp_jupyter].groupby([\"repo\", \"date\"]).any().droplevel(0)[\"how\"].resample(\n",
    "        \"Q\", origin=pd.to_datetime(\"2013-01-01\")\n",
    "    ).sum(),\n",
    "})"
   ]
  },
  {
   "cell_type": "code",
   "execution_count": 67,
   "id": "3177a891-1a9c-423f-8677-e1eb716d5d2f",
   "metadata": {},
   "outputs": [
    {
     "data": {
      "image/png": "[encoded data removed]",
      "text/plain": [
       "<Figure size 936x432 with 1 Axes>"
      ]
     },
     "metadata": {
      "needs_background": "light"
     },
     "output_type": "display_data"
    }
   ],
   "source": [
    "fig, ax = plt.subplots()\n",
    "\n",
    "comparison2.plot(ax=ax,\n",
    "                 style=[\":\", \"-\", \"--\", \":\", \"-\", \"-\"],\n",
    "                 color=[\"gray\", c[0], c[3], c[2], c[1], c[4]],\n",
    "                 figsize=(13, 6))\n",
    "\n",
    "ax.axvline(x=pd.to_datetime(\"2013-01-01\"), ls=\"--\", c=\"gray\")\n",
    "ax.text(pd.to_datetime(\"2013-01-01\"), 0.3, \"CMSSW moved to GitHub\",\n",
    "        transform=ax.get_xaxis_transform(), rotation=90, ha=\"right\", va=\"center\", c=\"gray\")\n",
    "\n",
    "ax.set_xlim(pd.to_datetime(\"2011-06-01\"), pd.to_datetime(\"2021-09-01\"))\n",
    "ax.set_ylim(0, 500)\n",
    "ax.set_xlabel(\"\")\n",
    "ax.set_ylabel(\"Number of repos matching, quarterly\")\n",
    "ax.legend(loc=\"upper left\")\n",
    "ax.get_figure().savefig(\"PLOTS/gihub-language-fullstudy.svg\")\n",
    "ax.get_figure().savefig(\"PLOTS/gihub-language-fullstudy.pdf\")"
   ]
  }
 ],
 "metadata": {
  "kernelspec": {
   "display_name": "Python 3 (ipykernel)",
   "language": "python",
   "name": "python3"
  },
  "language_info": {
   "codemirror_mode": {
    "name": "ipython",
    "version": 3
   },
   "file_extension": ".py",
   "mimetype": "text/x-python",
   "name": "python",
   "nbconvert_exporter": "python",
   "pygments_lexer": "ipython3",
   "version": "3.9.10"
  }
 },
 "nbformat": 4,
 "nbformat_minor": 5
}
